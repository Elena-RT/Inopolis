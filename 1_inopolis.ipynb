{
 "cells": [
  {
   "cell_type": "code",
   "execution_count": 3,
   "id": "8280d0ed",
   "metadata": {},
   "outputs": [
    {
     "name": "stdout",
     "output_type": "stream",
     "text": [
      "1.23.5\n"
     ]
    }
   ],
   "source": [
    "import numpy as np\n",
    "print(np.__version__)"
   ]
  },
  {
   "cell_type": "code",
   "execution_count": 4,
   "id": "12a2ae4d",
   "metadata": {},
   "outputs": [
    {
     "name": "stdout",
     "output_type": "stream",
     "text": [
      "Введите сумму кредита: 0.05\n",
      "Введите ставку (в десятичной форме): 10\n",
      "Введите ежемесячный платеж: 10000\n",
      "Кредит будет погашен через 1 лет\n"
     ]
    }
   ],
   "source": [
    "def calculate_loan_repayment(loan, rate, pmt):\n",
    "    # Проверка, может ли кредит быть погашен\n",
    "    if pmt <= loan * rate:\n",
    "        return 'Кредит никогда не будет погашен'\n",
    "    \n",
    "    # Инициализация счетчика лет\n",
    "    n = 0\n",
    "    \n",
    "    # Цикл, пока остаток долга положительный\n",
    "    while loan > 0:\n",
    "        # Обновление остатка долга\n",
    "        loan = loan + loan * rate - pmt\n",
    "        # Увеличение счетчика лет\n",
    "        n += 1\n",
    "    \n",
    "    return f'Кредит будет погашен через {n} лет'\n",
    "\n",
    "# Пример использования функции\n",
    "loan_amount = float(input(\"Введите сумму кредита: \"))\n",
    "interest_rate = float(input(\"Введите ставку (в десятичной форме): \"))\n",
    "monthly_payment = float(input(\"Введите ежемесячный платеж: \"))\n",
    "\n",
    "# Поскольку rate и pmt обычно задаются на год, нам нужно преобразовать их\n",
    "annual_rate = interest_rate / 12\n",
    "monthly_payment = monthly_payment\n",
    "\n",
    "# Вызов функции\n",
    "result = calculate_loan_repayment(loan_amount, annual_rate, monthly_payment)\n",
    "print(result)"
   ]
  },
  {
   "cell_type": "code",
   "execution_count": null,
   "id": "58e6895b",
   "metadata": {},
   "outputs": [],
   "source": []
  }
 ],
 "metadata": {
  "kernelspec": {
   "display_name": "Python 3 (ipykernel)",
   "language": "python",
   "name": "python3"
  },
  "language_info": {
   "codemirror_mode": {
    "name": "ipython",
    "version": 3
   },
   "file_extension": ".py",
   "mimetype": "text/x-python",
   "name": "python",
   "nbconvert_exporter": "python",
   "pygments_lexer": "ipython3",
   "version": "3.10.9"
  }
 },
 "nbformat": 4,
 "nbformat_minor": 5
}
